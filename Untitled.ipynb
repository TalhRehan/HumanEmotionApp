{
 "cells": [
  {
   "cell_type": "code",
   "execution_count": 2,
   "id": "7a174e57",
   "metadata": {},
   "outputs": [],
   "source": [
    "from sklearn.feature_extraction.text import TfidfVectorizer\n",
    "from sklearn.preprocessing import LabelEncoder\n",
    "from sklearn.linear_model import LogisticRegression"
   ]
  },
  {
   "cell_type": "code",
   "execution_count": 3,
   "id": "c4027439",
   "metadata": {},
   "outputs": [],
   "source": [
    "lb =LabelEncoder()\n",
    "lg = LogisticRegression()\n",
    "tfidf_vectorizor = TfidfVectorizer()"
   ]
  },
  {
   "cell_type": "code",
   "execution_count": 4,
   "id": "61827105",
   "metadata": {},
   "outputs": [],
   "source": [
    "def predict_emotion(input_text):\n",
    "    cleaned_text = clean_text(input_text)\n",
    "    input_vectorized = tfidf_vectorizor.transform([cleaned_text])\n",
    "    predicted_label = lg.predict(input_vectorized)[0]\n",
    "    predicted_emotion = lb.inverse_transform([predicted_label])[0]\n",
    "    label = np.max(lg.predict(input_vectorized)[0])\n",
    "    return predicted_emotion, label"
   ]
  },
  {
   "cell_type": "code",
   "execution_count": 8,
   "id": "f52a8855",
   "metadata": {},
   "outputs": [],
   "source": [
    "import pandas as pd\n",
    "data0 = {\n",
    "    'name':['talha','rehan','waqar','adnan','shazaib','haroon'],\n",
    "    'class': [12,13,12,16,1,2],\n",
    "      \n",
    "}\n",
    "dataset = pd.DataFrame(data0)"
   ]
  },
  {
   "cell_type": "code",
   "execution_count": 9,
   "id": "c28cb25e",
   "metadata": {},
   "outputs": [
    {
     "data": {
      "text/html": [
       "<div>\n",
       "<style scoped>\n",
       "    .dataframe tbody tr th:only-of-type {\n",
       "        vertical-align: middle;\n",
       "    }\n",
       "\n",
       "    .dataframe tbody tr th {\n",
       "        vertical-align: top;\n",
       "    }\n",
       "\n",
       "    .dataframe thead th {\n",
       "        text-align: right;\n",
       "    }\n",
       "</style>\n",
       "<table border=\"1\" class=\"dataframe\">\n",
       "  <thead>\n",
       "    <tr style=\"text-align: right;\">\n",
       "      <th></th>\n",
       "      <th>name</th>\n",
       "      <th>class</th>\n",
       "    </tr>\n",
       "  </thead>\n",
       "  <tbody>\n",
       "    <tr>\n",
       "      <th>0</th>\n",
       "      <td>talha</td>\n",
       "      <td>12</td>\n",
       "    </tr>\n",
       "    <tr>\n",
       "      <th>1</th>\n",
       "      <td>rehan</td>\n",
       "      <td>13</td>\n",
       "    </tr>\n",
       "    <tr>\n",
       "      <th>2</th>\n",
       "      <td>waqar</td>\n",
       "      <td>12</td>\n",
       "    </tr>\n",
       "    <tr>\n",
       "      <th>3</th>\n",
       "      <td>adnan</td>\n",
       "      <td>16</td>\n",
       "    </tr>\n",
       "    <tr>\n",
       "      <th>4</th>\n",
       "      <td>shazaib</td>\n",
       "      <td>1</td>\n",
       "    </tr>\n",
       "    <tr>\n",
       "      <th>5</th>\n",
       "      <td>haroon</td>\n",
       "      <td>2</td>\n",
       "    </tr>\n",
       "  </tbody>\n",
       "</table>\n",
       "</div>"
      ],
      "text/plain": [
       "      name  class\n",
       "0    talha     12\n",
       "1    rehan     13\n",
       "2    waqar     12\n",
       "3    adnan     16\n",
       "4  shazaib      1\n",
       "5   haroon      2"
      ]
     },
     "execution_count": 9,
     "metadata": {},
     "output_type": "execute_result"
    }
   ],
   "source": [
    "dataset"
   ]
  },
  {
   "cell_type": "code",
   "execution_count": 11,
   "id": "cbb05a85",
   "metadata": {},
   "outputs": [],
   "source": [
    "vectorizor = tfidf_vectorizor.fit_transform(dataset)"
   ]
  },
  {
   "cell_type": "code",
   "execution_count": null,
   "id": "6a1463c2",
   "metadata": {},
   "outputs": [],
   "source": []
  }
 ],
 "metadata": {
  "kernelspec": {
   "display_name": "Python 3 (ipykernel)",
   "language": "python",
   "name": "python3"
  },
  "language_info": {
   "codemirror_mode": {
    "name": "ipython",
    "version": 3
   },
   "file_extension": ".py",
   "mimetype": "text/x-python",
   "name": "python",
   "nbconvert_exporter": "python",
   "pygments_lexer": "ipython3",
   "version": "3.11.5"
  }
 },
 "nbformat": 4,
 "nbformat_minor": 5
}
